{
 "cells": [
  {
   "cell_type": "markdown",
   "metadata": {},
   "source": [
    "# List Comprehensions Lab\n",
    "\n",
    "Complete the following set of exercises to solidify your knowledge of list comprehensions."
   ]
  },
  {
   "cell_type": "code",
   "execution_count": 4,
   "metadata": {},
   "outputs": [],
   "source": [
    "import os\n",
    "import numpy as np\n",
    "import pandas as pd"
   ]
  },
  {
   "cell_type": "markdown",
   "metadata": {},
   "source": [
    "### 1. Use a list comprehension to create and print a list of consecutive integers starting with 1 and ending with 50."
   ]
  },
  {
   "cell_type": "code",
   "execution_count": 5,
   "metadata": {},
   "outputs": [
    {
     "name": "stdout",
     "output_type": "stream",
     "text": [
      "[1, 2, 3, 4, 5, 6, 7, 8, 9, 10, 11, 12, 13, 14, 15, 16, 17, 18, 19, 20, 21, 22, 23, 24, 25, 26, 27, 28, 29, 30, 31, 32, 33, 34, 35, 36, 37, 38, 39, 40, 41, 42, 43, 44, 45, 46, 47, 48, 49]\n",
      "[1, 2, 3, 4, 5, 6, 7, 8, 9, 10, 11, 12, 13, 14, 15, 16, 17, 18, 19, 20, 21, 22, 23, 24, 25, 26, 27, 28, 29, 30, 31, 32, 33, 34, 35, 36, 37, 38, 39, 40, 41, 42, 43, 44, 45, 46, 47, 48, 49]\n"
     ]
    }
   ],
   "source": [
    "#using normal for loop\n",
    "\n",
    "cons_int_list = []\n",
    "for i in range(1, 50):\n",
    "    cons_int_list.append(i)\n",
    "    \n",
    "print(cons_int_list)\n",
    "\n",
    "\n",
    "\n",
    "###list comprehended\n",
    "\n",
    "new_cons_int_list = [i for i in range(1,50)]\n",
    "print(new_cons_int_list)\n",
    "\n",
    "\n"
   ]
  },
  {
   "cell_type": "markdown",
   "metadata": {},
   "source": [
    "### 2. Use a list comprehension to create and print a list of even numbers starting with 2 and ending with 200."
   ]
  },
  {
   "cell_type": "code",
   "execution_count": 6,
   "metadata": {},
   "outputs": [
    {
     "name": "stdout",
     "output_type": "stream",
     "text": [
      "[2, 4, 6, 8, 10, 12, 14, 16, 18, 20, 22, 24, 26, 28, 30, 32, 34, 36, 38, 40, 42, 44, 46, 48, 50, 52, 54, 56, 58, 60, 62, 64, 66, 68, 70, 72, 74, 76, 78, 80, 82, 84, 86, 88, 90, 92, 94, 96, 98, 100, 102, 104, 106, 108, 110, 112, 114, 116, 118, 120, 122, 124, 126, 128, 130, 132, 134, 136, 138, 140, 142, 144, 146, 148, 150, 152, 154, 156, 158, 160, 162, 164, 166, 168, 170, 172, 174, 176, 178, 180, 182, 184, 186, 188, 190, 192, 194, 196, 198]\n",
      "[2, 4, 6, 8, 10, 12, 14, 16, 18, 20, 22, 24, 26, 28, 30, 32, 34, 36, 38, 40, 42, 44, 46, 48, 50, 52, 54, 56, 58, 60, 62, 64, 66, 68, 70, 72, 74, 76, 78, 80, 82, 84, 86, 88, 90, 92, 94, 96, 98, 100, 102, 104, 106, 108, 110, 112, 114, 116, 118, 120, 122, 124, 126, 128, 130, 132, 134, 136, 138, 140, 142, 144, 146, 148, 150, 152, 154, 156, 158, 160, 162, 164, 166, 168, 170, 172, 174, 176, 178, 180, 182, 184, 186, 188, 190, 192, 194, 196, 198]\n"
     ]
    }
   ],
   "source": [
    "##normal for loop\n",
    "\n",
    "new_list = []\n",
    "for i in range(2, 200):\n",
    "    if i % 2 == 0:\n",
    "        new_list.append(i)\n",
    "    else:\n",
    "        pass\n",
    "    \n",
    "print(new_list)\n",
    "\n",
    "##using list comp\n",
    "\n",
    "even_cons_int_list = [i for i in range(2,200) if i % 2 == 0]\n",
    "print(even_cons_int_list)\n"
   ]
  },
  {
   "cell_type": "markdown",
   "metadata": {},
   "source": [
    "### 3. Use a list comprehension to create and print a list containing all elements of the 10 x 4 Numpy array below."
   ]
  },
  {
   "cell_type": "code",
   "execution_count": 7,
   "metadata": {},
   "outputs": [],
   "source": [
    "a = np.array([[0.84062117, 0.48006452, 0.7876326 , 0.77109654],\n",
    "       [0.44409793, 0.09014516, 0.81835917, 0.87645456],\n",
    "       [0.7066597 , 0.09610873, 0.41247947, 0.57433389],\n",
    "       [0.29960807, 0.42315023, 0.34452557, 0.4751035 ],\n",
    "       [0.17003563, 0.46843998, 0.92796258, 0.69814654],\n",
    "       [0.41290051, 0.19561071, 0.16284783, 0.97016248],\n",
    "       [0.71725408, 0.87702738, 0.31244595, 0.76615487],\n",
    "       [0.20754036, 0.57871812, 0.07214068, 0.40356048],\n",
    "       [0.12149553, 0.53222417, 0.9976855 , 0.12536346],\n",
    "       [0.80930099, 0.50962849, 0.94555126, 0.33364763]])"
   ]
  },
  {
   "cell_type": "code",
   "execution_count": 11,
   "metadata": {},
   "outputs": [
    {
     "name": "stdout",
     "output_type": "stream",
     "text": [
      "[array([0.84062117, 0.48006452, 0.7876326 , 0.77109654]), array([0.44409793, 0.09014516, 0.81835917, 0.87645456]), array([0.7066597 , 0.09610873, 0.41247947, 0.57433389]), array([0.29960807, 0.42315023, 0.34452557, 0.4751035 ]), array([0.17003563, 0.46843998, 0.92796258, 0.69814654]), array([0.41290051, 0.19561071, 0.16284783, 0.97016248]), array([0.71725408, 0.87702738, 0.31244595, 0.76615487]), array([0.20754036, 0.57871812, 0.07214068, 0.40356048]), array([0.12149553, 0.53222417, 0.9976855 , 0.12536346]), array([0.80930099, 0.50962849, 0.94555126, 0.33364763])]\n",
      "[array([0.84062117, 0.48006452, 0.7876326 , 0.77109654]), array([0.44409793, 0.09014516, 0.81835917, 0.87645456]), array([0.7066597 , 0.09610873, 0.41247947, 0.57433389]), array([0.29960807, 0.42315023, 0.34452557, 0.4751035 ]), array([0.17003563, 0.46843998, 0.92796258, 0.69814654]), array([0.41290051, 0.19561071, 0.16284783, 0.97016248]), array([0.71725408, 0.87702738, 0.31244595, 0.76615487]), array([0.20754036, 0.57871812, 0.07214068, 0.40356048]), array([0.12149553, 0.53222417, 0.9976855 , 0.12536346]), array([0.80930099, 0.50962849, 0.94555126, 0.33364763])]\n"
     ]
    }
   ],
   "source": [
    "##Enter Code here\n",
    "\n",
    "\n",
    "#using a normal for loop to add each element in the array to a list and then print it\n",
    "a_list = []\n",
    "\n",
    "for i in a:\n",
    "    a_list.append(i)\n",
    "print(a_list)\n",
    "\n",
    "\n",
    "#using list comprehension to do the same\n",
    "a_list = [i for i in a]\n",
    "print(a_list)\n",
    "\n"
   ]
  },
  {
   "cell_type": "markdown",
   "metadata": {},
   "source": [
    "### 4. Add a condition to the list comprehension above so that only values greater than or equal to 0.5 are printed."
   ]
  },
  {
   "cell_type": "code",
   "execution_count": 26,
   "metadata": {},
   "outputs": [
    {
     "name": "stdout",
     "output_type": "stream",
     "text": [
      "[[0.84062117, 0.48006452, 0.7876326, 0.77109654], [0.44409793, 0.09014516, 0.81835917, 0.87645456], [0.7066597, 0.09610873, 0.41247947, 0.57433389], [0.29960807, 0.42315023, 0.34452557, 0.4751035], [0.17003563, 0.46843998, 0.92796258, 0.69814654], [0.41290051, 0.19561071, 0.16284783, 0.97016248], [0.71725408, 0.87702738, 0.31244595, 0.76615487], [0.20754036, 0.57871812, 0.07214068, 0.40356048], [0.12149553, 0.53222417, 0.9976855, 0.12536346], [0.80930099, 0.50962849, 0.94555126, 0.33364763]]\n",
      "[0.84062117, 0.7876326, 0.77109654, 0.81835917, 0.87645456, 0.7066597, 0.57433389, 0.92796258, 0.69814654, 0.97016248, 0.71725408, 0.87702738, 0.76615487, 0.57871812, 0.53222417, 0.9976855, 0.80930099, 0.50962849, 0.94555126]\n"
     ]
    }
   ],
   "source": [
    "\n",
    "# to do this I have first turned the array into a list\n",
    "a_list_2 = a.tolist()\n",
    "print(a_list_2)\n",
    "\n",
    "\n",
    "#now I have created the list comprehension as using the array gives me error:\n",
    "#\"ValueError: The truth value of an array with more than one element is ambiguous. Use a.any() or a.all()\"\n",
    "\n",
    "a_list_2_greater = [j for i in a_list_2 for j in i if j >= 0.5]\n",
    "\n",
    "print(a_list_2_greater)"
   ]
  },
  {
   "cell_type": "markdown",
   "metadata": {},
   "source": [
    "### 5. Use a list comprehension to create and print a list containing all elements of the 5 x 2 x 3 Numpy array below."
   ]
  },
  {
   "cell_type": "code",
   "execution_count": 28,
   "metadata": {},
   "outputs": [],
   "source": [
    "b = np.array([[[0.55867166, 0.06210792, 0.08147297],\n",
    "        [0.82579068, 0.91512478, 0.06833034]],\n",
    "\n",
    "       [[0.05440634, 0.65857693, 0.30296619],\n",
    "        [0.06769833, 0.96031863, 0.51293743]],\n",
    "\n",
    "       [[0.09143215, 0.71893382, 0.45850679],\n",
    "        [0.58256464, 0.59005654, 0.56266457]],\n",
    "\n",
    "       [[0.71600294, 0.87392666, 0.11434044],\n",
    "        [0.8694668 , 0.65669313, 0.10708681]],\n",
    "\n",
    "       [[0.07529684, 0.46470767, 0.47984544],\n",
    "        [0.65368638, 0.14901286, 0.23760688]]])"
   ]
  },
  {
   "cell_type": "code",
   "execution_count": 42,
   "metadata": {},
   "outputs": [
    {
     "name": "stdout",
     "output_type": "stream",
     "text": [
      "[[[0.55867166, 0.06210792, 0.08147297], [0.82579068, 0.91512478, 0.06833034]], [[0.05440634, 0.65857693, 0.30296619], [0.06769833, 0.96031863, 0.51293743]], [[0.09143215, 0.71893382, 0.45850679], [0.58256464, 0.59005654, 0.56266457]], [[0.71600294, 0.87392666, 0.11434044], [0.8694668, 0.65669313, 0.10708681]], [[0.07529684, 0.46470767, 0.47984544], [0.65368638, 0.14901286, 0.23760688]]]\n",
      "[[0.55867166, 0.06210792, 0.08147297], [0.82579068, 0.91512478, 0.06833034], [0.05440634, 0.65857693, 0.30296619], [0.06769833, 0.96031863, 0.51293743], [0.09143215, 0.71893382, 0.45850679], [0.58256464, 0.59005654, 0.56266457], [0.71600294, 0.87392666, 0.11434044], [0.8694668, 0.65669313, 0.10708681], [0.07529684, 0.46470767, 0.47984544], [0.65368638, 0.14901286, 0.23760688]]\n"
     ]
    }
   ],
   "source": [
    "# to do this I have first turned the array into a list\n",
    "b_list = b.tolist()\n",
    "print(b_list)\n",
    "\n",
    "#list comprehension\n",
    "b_list_2 = [j for i in b_list for j in i]\n",
    "\n",
    "print(b_list_2)"
   ]
  },
  {
   "cell_type": "markdown",
   "metadata": {},
   "source": [
    "### 6. Add a condition to the list comprehension above so that the last value in each subarray is printed, but only if it is less than or equal to 0.5."
   ]
  },
  {
   "cell_type": "code",
   "execution_count": 44,
   "metadata": {},
   "outputs": [
    {
     "name": "stdout",
     "output_type": "stream",
     "text": [
      "[0.55867166, 0.06210792, 0.08147297, 0.82579068, 0.91512478, 0.06833034, 0.05440634, 0.65857693, 0.30296619, 0.06769833, 0.96031863, 0.51293743, 0.09143215, 0.71893382, 0.45850679, 0.58256464, 0.59005654, 0.56266457, 0.71600294, 0.87392666, 0.11434044, 0.8694668, 0.65669313, 0.10708681, 0.07529684, 0.46470767, 0.47984544, 0.65368638, 0.14901286, 0.23760688]\n",
      "[0.06210792, 0.08147297, 0.06833034, 0.05440634, 0.30296619, 0.06769833, 0.09143215, 0.45850679, 0.11434044, 0.10708681, 0.07529684, 0.46470767, 0.47984544, 0.14901286, 0.23760688]\n"
     ]
    }
   ],
   "source": [
    "\n",
    "\n",
    "#now I have created the list comprehension as using the array gives me error:\n",
    "#\"ValueError: The truth value of an array with more than one element is ambiguous. Use a.any() or a.all()\"\n",
    "\n",
    "#b_list_lessthan = [j for i in b for j in i if j <= 0.5]\n",
    "\n",
    "#print(b_list_lessthan)\n",
    "\n",
    "#first create a list of each elements, rather than a list of lists (3 loops are used as there are two nested lists inside the list)\n",
    "b_list_lessthan = []\n",
    "for sublist in b_list:\n",
    "    for item in sublist:\n",
    "        for item2 in item:\n",
    "            b_list_lessthan.append(item2)\n",
    "\n",
    "print(b_list_lessthan)\n",
    "\n",
    "\n",
    "#using list comprehension and adding the smaller than 0.5 condition\n",
    "b_list_lessthan = [item2 for sublist in b_list for item in sublist for item2 in item if item2 <= 0.5]\n",
    "\n",
    "print(b_list_lessthan)\n",
    "\n"
   ]
  },
  {
   "cell_type": "markdown",
   "metadata": {},
   "source": [
    "### 7. Use a list comprehension to select and print the names of all CSV files in the */data* directory."
   ]
  },
  {
   "cell_type": "code",
   "execution_count": 11,
   "metadata": {},
   "outputs": [
    {
     "name": "stdout",
     "output_type": "stream",
     "text": [
      "['sample_file_0.csv', 'sample_file_0.txt', 'sample_file_1.csv', 'sample_file_1.txt', 'sample_file_2.csv', 'sample_file_2.txt', 'sample_file_3.csv', 'sample_file_3.txt', 'sample_file_4.csv', 'sample_file_4.txt', 'sample_file_5.csv', 'sample_file_5.txt', 'sample_file_6.csv', 'sample_file_6.txt', 'sample_file_7.csv', 'sample_file_7.txt', 'sample_file_8.csv', 'sample_file_8.txt', 'sample_file_9.csv', 'sample_file_9.txt']\n",
      "['sample_file_0.csv', 'sample_file_0.txt', 'sample_file_1.csv', 'sample_file_1.txt', 'sample_file_2.csv', 'sample_file_2.txt', 'sample_file_3.csv', 'sample_file_3.txt', 'sample_file_4.csv', 'sample_file_4.txt', 'sample_file_5.csv', 'sample_file_5.txt', 'sample_file_6.csv', 'sample_file_6.txt', 'sample_file_7.csv', 'sample_file_7.txt', 'sample_file_8.csv', 'sample_file_8.txt', 'sample_file_9.csv', 'sample_file_9.txt']\n"
     ]
    }
   ],
   "source": [
    "import pandas as pd\n",
    "import os\n",
    "\n",
    "\n",
    "#print the name all files in the data directory\n",
    "data_print = os.listdir(\"C:\\\\Users\\\\chris\\\\lab-list-comprehensions\\\\data\")\n",
    "print(data_print)\n",
    "\n",
    "#makes a list of all the files in the data directory\n",
    "os.listdir(\"C:\\\\Users\\\\chris\\\\lab-list-comprehensions\\\\data\") \n",
    "\n",
    "csv_all_names = os.listdir(\"C:\\\\Users\\\\chris\\\\lab-list-comprehensions\\\\data\")\n",
    "name = [name for name in csv_all_names if name]\n",
    "print(name)\n",
    "\n"
   ]
  },
  {
   "cell_type": "code",
   "execution_count": 32,
   "metadata": {},
   "outputs": [
    {
     "ename": "NameError",
     "evalue": "name 'pwd' is not defined",
     "output_type": "error",
     "traceback": [
      "\u001b[1;31m---------------------------------------------------------------------------\u001b[0m",
      "\u001b[1;31mNameError\u001b[0m                                 Traceback (most recent call last)",
      "\u001b[1;32m<ipython-input-32-17ef655a7645>\u001b[0m in \u001b[0;36m<module>\u001b[1;34m\u001b[0m\n\u001b[0;32m      1\u001b[0m \u001b[1;31m#check which directory I'm currently in\u001b[0m\u001b[1;33m\u001b[0m\u001b[1;33m\u001b[0m\u001b[1;33m\u001b[0m\u001b[0m\n\u001b[1;32m----> 2\u001b[1;33m \u001b[0mpwd\u001b[0m\u001b[1;33m\u001b[0m\u001b[1;33m\u001b[0m\u001b[0m\n\u001b[0m",
      "\u001b[1;31mNameError\u001b[0m: name 'pwd' is not defined"
     ]
    }
   ],
   "source": [
    "#check which directory I'm currently in\n",
    "pwd\n"
   ]
  },
  {
   "cell_type": "code",
   "execution_count": 43,
   "metadata": {},
   "outputs": [
    {
     "name": "stdout",
     "output_type": "stream",
     "text": [
      "          0         1         2         3         4         5         6  \\\n",
      "0  0.734751  0.195362  0.734309  0.598184  0.763433  0.263434  0.868066   \n",
      "1  0.772607  0.445391  0.249642  0.787922  0.598583  0.827238  0.624126   \n",
      "2  0.226428  0.268764  0.694262  0.622335  0.063843  0.122683  0.815625   \n",
      "3  0.362748  0.495430  0.113876  0.594149  0.612522  0.625204  0.864050   \n",
      "4  0.033415  0.340433  0.464971  0.363737  0.025815  0.434129  0.415163   \n",
      "\n",
      "          7         8         9        10        11        12        13  \\\n",
      "0  0.058092  0.753502  0.587513  0.311608  0.178356  0.182922  0.147631   \n",
      "1  0.601524  0.688753  0.338870  0.081595  0.471474  0.267443  0.453351   \n",
      "2  0.584542  0.032594  0.589775  0.764350  0.650973  0.565705  0.691784   \n",
      "3  0.260279  0.528873  0.168043  0.715929  0.677014  0.175735  0.632370   \n",
      "4  0.892210  0.381701  0.415264  0.790801  0.696930  0.819751  0.944029   \n",
      "\n",
      "         14        15        16        17        18        19  \n",
      "0  0.391188  0.816049  0.749068  0.293260  0.937828  0.880858  \n",
      "1  0.800716  0.045749  0.683793  0.389789  0.016787  0.503695  \n",
      "2  0.265223  0.739031  0.560394  0.334802  0.517694  0.646110  \n",
      "3  0.926715  0.085675  0.120525  0.141746  0.771144  0.489660  \n",
      "4  0.869965  0.041723  0.819140  0.676051  0.109349  0.872947  \n"
     ]
    }
   ],
   "source": [
    "#read the CSV file sample_file_0\n",
    "sample_file_0 = pd.read_csv(r\"C:\\\\Users\\\\chris\\\\lab-list-comprehensions\\\\data\\\\sample_file_0.csv\")\n",
    "print(sample_file_0)\n"
   ]
  },
  {
   "cell_type": "code",
   "execution_count": 6,
   "metadata": {},
   "outputs": [
    {
     "name": "stdout",
     "output_type": "stream",
     "text": [
      "sample_file_0.csv\n",
      "sample_file_0.txt\n",
      "sample_file_1.csv\n",
      "sample_file_1.txt\n",
      "sample_file_2.csv\n",
      "sample_file_2.txt\n",
      "sample_file_3.csv\n",
      "sample_file_3.txt\n",
      "sample_file_4.csv\n",
      "sample_file_4.txt\n",
      "sample_file_5.csv\n",
      "sample_file_5.txt\n",
      "sample_file_6.csv\n",
      "sample_file_6.txt\n",
      "sample_file_7.csv\n",
      "sample_file_7.txt\n",
      "sample_file_8.csv\n",
      "sample_file_8.txt\n",
      "sample_file_9.csv\n",
      "sample_file_9.txt\n"
     ]
    }
   ],
   "source": [
    "#storing the main data filepath to a variable to make it easier to call\n",
    "filepath = \"C:\\\\Users\\\\chris\\\\lab-list-comprehensions\\\\data\"\n",
    "\n",
    "\n",
    "files = os.listdir(filepath)\n",
    "for entry in files:\n",
    "    print(entry)"
   ]
  },
  {
   "cell_type": "markdown",
   "metadata": {},
   "source": [
    "### 8. Use a list comprehension and the Pandas `read_csv` and `concat` methods to read all CSV files in the */data* directory and combine them into a single data frame. Display the top 10 rows of the resulting data frame."
   ]
  },
  {
   "cell_type": "code",
   "execution_count": 16,
   "metadata": {},
   "outputs": [
    {
     "name": "stdout",
     "output_type": "stream",
     "text": [
      "                    0\n",
      "0   sample_file_0.csv\n",
      "1   sample_file_0.txt\n",
      "2   sample_file_1.csv\n",
      "3   sample_file_1.txt\n",
      "4   sample_file_2.csv\n",
      "5   sample_file_2.txt\n",
      "6   sample_file_3.csv\n",
      "7   sample_file_3.txt\n",
      "8   sample_file_4.csv\n",
      "9   sample_file_4.txt\n",
      "10  sample_file_5.csv\n",
      "11  sample_file_5.txt\n",
      "12  sample_file_6.csv\n",
      "13  sample_file_6.txt\n",
      "14  sample_file_7.csv\n",
      "15  sample_file_7.txt\n",
      "16  sample_file_8.csv\n",
      "17  sample_file_8.txt\n",
      "18  sample_file_9.csv\n",
      "19  sample_file_9.txt\n",
      "           0         1         2         3         4         5         6  \\\n",
      "0   0.734751  0.195362  0.734309  0.598184  0.763433  0.263434  0.868066   \n",
      "1   0.772607  0.445391  0.249642  0.787922  0.598583  0.827238  0.624126   \n",
      "2   0.226428  0.268764  0.694262  0.622335  0.063843  0.122683  0.815625   \n",
      "3   0.362748  0.495430  0.113876  0.594149  0.612522  0.625204  0.864050   \n",
      "4   0.033415  0.340433  0.464971  0.363737  0.025815  0.434129  0.415163   \n",
      "..       ...       ...       ...       ...       ...       ...       ...   \n",
      "0   0.215190  0.155352  0.160848  0.807736  0.363587  0.899832  0.146754   \n",
      "1   0.895544  0.955196  0.089925  0.827555  0.089071  0.642883  0.996052   \n",
      "2   0.413752  0.693052  0.789796  0.929164  0.536191  0.439769  0.773474   \n",
      "3   0.728001  0.348156  0.935787  0.851163  0.444573  0.715080  0.988408   \n",
      "4   0.134942  0.875931  0.273505  0.207588  0.080696  0.717396  0.033930   \n",
      "\n",
      "           7         8         9        10        11        12        13  \\\n",
      "0   0.058092  0.753502  0.587513  0.311608  0.178356  0.182922  0.147631   \n",
      "1   0.601524  0.688753  0.338870  0.081595  0.471474  0.267443  0.453351   \n",
      "2   0.584542  0.032594  0.589775  0.764350  0.650973  0.565705  0.691784   \n",
      "3   0.260279  0.528873  0.168043  0.715929  0.677014  0.175735  0.632370   \n",
      "4   0.892210  0.381701  0.415264  0.790801  0.696930  0.819751  0.944029   \n",
      "..       ...       ...       ...       ...       ...       ...       ...   \n",
      "0   0.094802  0.705133  0.882762  0.773320  0.687745  0.016789  0.340725   \n",
      "1   0.879020  0.421837  0.412141  0.858513  0.217091  0.176157  0.551236   \n",
      "2   0.982074  0.876955  0.633154  0.279005  0.483317  0.908288  0.756172   \n",
      "3   0.210332  0.732133  0.892383  0.216893  0.367595  0.846208  0.240111   \n",
      "4   0.646837  0.888722  0.922742  0.176593  0.861333  0.389451  0.695244   \n",
      "\n",
      "          14        15        16        17        18        19  \n",
      "0   0.391188  0.816049  0.749068  0.293260  0.937828  0.880858  \n",
      "1   0.800716  0.045749  0.683793  0.389789  0.016787  0.503695  \n",
      "2   0.265223  0.739031  0.560394  0.334802  0.517694  0.646110  \n",
      "3   0.926715  0.085675  0.120525  0.141746  0.771144  0.489660  \n",
      "4   0.869965  0.041723  0.819140  0.676051  0.109349  0.872947  \n",
      "..       ...       ...       ...       ...       ...       ...  \n",
      "0   0.984182  0.985461  0.412044  0.867894  0.113432  0.349845  \n",
      "1   0.834378  0.419535  0.041431  0.602258  0.984628  0.516899  \n",
      "2   0.462130  0.289892  0.145233  0.076819  0.797836  0.197592  \n",
      "3   0.471880  0.399721  0.758196  0.665568  0.931542  0.448124  \n",
      "4   0.129955  0.364114  0.428224  0.365442  0.847818  0.588319  \n",
      "\n",
      "[100 rows x 20 columns]\n"
     ]
    }
   ],
   "source": [
    "import pandas as pd\n",
    "\n",
    "\n",
    "df = pd.DataFrame(csv_all_names)\n",
    "print(df)\n",
    "\n",
    "#first make sure I'm in the right folder but using chdir to change the directory to where the files are stored in filepath\n",
    "os.chdir(filepath)\n",
    "\n",
    "#this reads all csv files in the previously defined name which is a list of all names in the directory\n",
    "dataframe = [pd.read_csv(i) for i in name]\n",
    "\n",
    "#this concetants/joins the dataframe files(now csv one's) using the .conact() method\n",
    "df_con = pd.concat(dataframe)\n",
    "\n",
    "#turn it back into a dataframe and print to test it worked\n",
    "df_con = pd.DataFrame(df_con)\n",
    "print(df_con)\n",
    "\n",
    "\n"
   ]
  },
  {
   "cell_type": "markdown",
   "metadata": {},
   "source": [
    "### 9. Use a list comprehension to select and print the column numbers for columns from the data set whose median is less than 0.48."
   ]
  },
  {
   "cell_type": "code",
   "execution_count": 20,
   "metadata": {},
   "outputs": [
    {
     "data": {
      "text/plain": [
       "['2', '9', '12', '14', '17']"
      ]
     },
     "execution_count": 20,
     "metadata": {},
     "output_type": "execute_result"
    }
   ],
   "source": [
    "\n",
    "#this loops through the dataframe df_con and if median is lower than 0.48(found with median() method)\n",
    "#adds it to a new list \"Colums over\"\n",
    "\n",
    "cols_no_under = [i for i in df_con if df_con[i].median()<0.48]\n",
    "cols_no_under\n"
   ]
  },
  {
   "cell_type": "markdown",
   "metadata": {},
   "source": [
    "### 10. Use a list comprehension to add a new column (20) to the data frame whose values are the values in column 19 minus 0.1. Display the top 10 rows of the resulting data frame."
   ]
  },
  {
   "cell_type": "code",
   "execution_count": 35,
   "metadata": {},
   "outputs": [
    {
     "ename": "KeyError",
     "evalue": "'19'",
     "output_type": "error",
     "traceback": [
      "\u001b[1;31m---------------------------------------------------------------------------\u001b[0m",
      "\u001b[1;31mKeyError\u001b[0m                                  Traceback (most recent call last)",
      "\u001b[1;32m~\\anaconda3\\lib\\site-packages\\pandas\\core\\indexes\\base.py\u001b[0m in \u001b[0;36mget_loc\u001b[1;34m(self, key, method, tolerance)\u001b[0m\n\u001b[0;32m   2645\u001b[0m             \u001b[1;32mtry\u001b[0m\u001b[1;33m:\u001b[0m\u001b[1;33m\u001b[0m\u001b[1;33m\u001b[0m\u001b[0m\n\u001b[1;32m-> 2646\u001b[1;33m                 \u001b[1;32mreturn\u001b[0m \u001b[0mself\u001b[0m\u001b[1;33m.\u001b[0m\u001b[0m_engine\u001b[0m\u001b[1;33m.\u001b[0m\u001b[0mget_loc\u001b[0m\u001b[1;33m(\u001b[0m\u001b[0mkey\u001b[0m\u001b[1;33m)\u001b[0m\u001b[1;33m\u001b[0m\u001b[1;33m\u001b[0m\u001b[0m\n\u001b[0m\u001b[0;32m   2647\u001b[0m             \u001b[1;32mexcept\u001b[0m \u001b[0mKeyError\u001b[0m\u001b[1;33m:\u001b[0m\u001b[1;33m\u001b[0m\u001b[1;33m\u001b[0m\u001b[0m\n",
      "\u001b[1;32mpandas\\_libs\\index.pyx\u001b[0m in \u001b[0;36mpandas._libs.index.IndexEngine.get_loc\u001b[1;34m()\u001b[0m\n",
      "\u001b[1;32mpandas\\_libs\\index.pyx\u001b[0m in \u001b[0;36mpandas._libs.index.IndexEngine.get_loc\u001b[1;34m()\u001b[0m\n",
      "\u001b[1;32mpandas\\_libs\\index_class_helper.pxi\u001b[0m in \u001b[0;36mpandas._libs.index.Int64Engine._check_type\u001b[1;34m()\u001b[0m\n",
      "\u001b[1;31mKeyError\u001b[0m: '19'",
      "\nDuring handling of the above exception, another exception occurred:\n",
      "\u001b[1;31mKeyError\u001b[0m                                  Traceback (most recent call last)",
      "\u001b[1;32m<ipython-input-35-06c2b831060f>\u001b[0m in \u001b[0;36m<module>\u001b[1;34m\u001b[0m\n\u001b[0;32m      1\u001b[0m \u001b[1;31m#use a list comprehenstion to loop through values in 'df' dataframe colum '19'\u001b[0m\u001b[1;33m\u001b[0m\u001b[1;33m\u001b[0m\u001b[1;33m\u001b[0m\u001b[0m\n\u001b[1;32m----> 2\u001b[1;33m \u001b[0mdf1\u001b[0m\u001b[1;33m=\u001b[0m \u001b[1;33m[\u001b[0m\u001b[0mrow\u001b[0m \u001b[1;32mfor\u001b[0m \u001b[0mrow\u001b[0m \u001b[1;32min\u001b[0m \u001b[0mdf\u001b[0m\u001b[1;33m[\u001b[0m\u001b[1;34m'19'\u001b[0m\u001b[1;33m]\u001b[0m \u001b[1;33m[\u001b[0m\u001b[0mrow\u001b[0m\u001b[1;33m]\u001b[0m\u001b[1;33m-\u001b[0m \u001b[1;36m0.1\u001b[0m\u001b[1;33m]\u001b[0m\u001b[1;33m\u001b[0m\u001b[1;33m\u001b[0m\u001b[0m\n\u001b[0m\u001b[0;32m      3\u001b[0m \u001b[1;33m\u001b[0m\u001b[0m\n\u001b[0;32m      4\u001b[0m \u001b[1;31m#insert a new column '20', with the content being\u001b[0m\u001b[1;33m\u001b[0m\u001b[1;33m\u001b[0m\u001b[1;33m\u001b[0m\u001b[0m\n\u001b[0;32m      5\u001b[0m \u001b[0mdf\u001b[0m\u001b[1;33m.\u001b[0m\u001b[0minsert\u001b[0m\u001b[1;33m(\u001b[0m\u001b[1;36m20\u001b[0m\u001b[1;33m,\u001b[0m \u001b[0mdf1\u001b[0m\u001b[1;33m)\u001b[0m\u001b[1;33m\u001b[0m\u001b[1;33m\u001b[0m\u001b[0m\n",
      "\u001b[1;32m~\\anaconda3\\lib\\site-packages\\pandas\\core\\frame.py\u001b[0m in \u001b[0;36m__getitem__\u001b[1;34m(self, key)\u001b[0m\n\u001b[0;32m   2798\u001b[0m             \u001b[1;32mif\u001b[0m \u001b[0mself\u001b[0m\u001b[1;33m.\u001b[0m\u001b[0mcolumns\u001b[0m\u001b[1;33m.\u001b[0m\u001b[0mnlevels\u001b[0m \u001b[1;33m>\u001b[0m \u001b[1;36m1\u001b[0m\u001b[1;33m:\u001b[0m\u001b[1;33m\u001b[0m\u001b[1;33m\u001b[0m\u001b[0m\n\u001b[0;32m   2799\u001b[0m                 \u001b[1;32mreturn\u001b[0m \u001b[0mself\u001b[0m\u001b[1;33m.\u001b[0m\u001b[0m_getitem_multilevel\u001b[0m\u001b[1;33m(\u001b[0m\u001b[0mkey\u001b[0m\u001b[1;33m)\u001b[0m\u001b[1;33m\u001b[0m\u001b[1;33m\u001b[0m\u001b[0m\n\u001b[1;32m-> 2800\u001b[1;33m             \u001b[0mindexer\u001b[0m \u001b[1;33m=\u001b[0m \u001b[0mself\u001b[0m\u001b[1;33m.\u001b[0m\u001b[0mcolumns\u001b[0m\u001b[1;33m.\u001b[0m\u001b[0mget_loc\u001b[0m\u001b[1;33m(\u001b[0m\u001b[0mkey\u001b[0m\u001b[1;33m)\u001b[0m\u001b[1;33m\u001b[0m\u001b[1;33m\u001b[0m\u001b[0m\n\u001b[0m\u001b[0;32m   2801\u001b[0m             \u001b[1;32mif\u001b[0m \u001b[0mis_integer\u001b[0m\u001b[1;33m(\u001b[0m\u001b[0mindexer\u001b[0m\u001b[1;33m)\u001b[0m\u001b[1;33m:\u001b[0m\u001b[1;33m\u001b[0m\u001b[1;33m\u001b[0m\u001b[0m\n\u001b[0;32m   2802\u001b[0m                 \u001b[0mindexer\u001b[0m \u001b[1;33m=\u001b[0m \u001b[1;33m[\u001b[0m\u001b[0mindexer\u001b[0m\u001b[1;33m]\u001b[0m\u001b[1;33m\u001b[0m\u001b[1;33m\u001b[0m\u001b[0m\n",
      "\u001b[1;32m~\\anaconda3\\lib\\site-packages\\pandas\\core\\indexes\\range.py\u001b[0m in \u001b[0;36mget_loc\u001b[1;34m(self, key, method, tolerance)\u001b[0m\n\u001b[0;32m    351\u001b[0m             \u001b[1;32mexcept\u001b[0m \u001b[0mValueError\u001b[0m\u001b[1;33m:\u001b[0m\u001b[1;33m\u001b[0m\u001b[1;33m\u001b[0m\u001b[0m\n\u001b[0;32m    352\u001b[0m                 \u001b[1;32mraise\u001b[0m \u001b[0mKeyError\u001b[0m\u001b[1;33m(\u001b[0m\u001b[0mkey\u001b[0m\u001b[1;33m)\u001b[0m\u001b[1;33m\u001b[0m\u001b[1;33m\u001b[0m\u001b[0m\n\u001b[1;32m--> 353\u001b[1;33m         \u001b[1;32mreturn\u001b[0m \u001b[0msuper\u001b[0m\u001b[1;33m(\u001b[0m\u001b[1;33m)\u001b[0m\u001b[1;33m.\u001b[0m\u001b[0mget_loc\u001b[0m\u001b[1;33m(\u001b[0m\u001b[0mkey\u001b[0m\u001b[1;33m,\u001b[0m \u001b[0mmethod\u001b[0m\u001b[1;33m=\u001b[0m\u001b[0mmethod\u001b[0m\u001b[1;33m,\u001b[0m \u001b[0mtolerance\u001b[0m\u001b[1;33m=\u001b[0m\u001b[0mtolerance\u001b[0m\u001b[1;33m)\u001b[0m\u001b[1;33m\u001b[0m\u001b[1;33m\u001b[0m\u001b[0m\n\u001b[0m\u001b[0;32m    354\u001b[0m \u001b[1;33m\u001b[0m\u001b[0m\n\u001b[0;32m    355\u001b[0m     \u001b[1;33m@\u001b[0m\u001b[0mAppender\u001b[0m\u001b[1;33m(\u001b[0m\u001b[0m_index_shared_docs\u001b[0m\u001b[1;33m[\u001b[0m\u001b[1;34m\"get_indexer\"\u001b[0m\u001b[1;33m]\u001b[0m\u001b[1;33m)\u001b[0m\u001b[1;33m\u001b[0m\u001b[1;33m\u001b[0m\u001b[0m\n",
      "\u001b[1;32m~\\anaconda3\\lib\\site-packages\\pandas\\core\\indexes\\base.py\u001b[0m in \u001b[0;36mget_loc\u001b[1;34m(self, key, method, tolerance)\u001b[0m\n\u001b[0;32m   2646\u001b[0m                 \u001b[1;32mreturn\u001b[0m \u001b[0mself\u001b[0m\u001b[1;33m.\u001b[0m\u001b[0m_engine\u001b[0m\u001b[1;33m.\u001b[0m\u001b[0mget_loc\u001b[0m\u001b[1;33m(\u001b[0m\u001b[0mkey\u001b[0m\u001b[1;33m)\u001b[0m\u001b[1;33m\u001b[0m\u001b[1;33m\u001b[0m\u001b[0m\n\u001b[0;32m   2647\u001b[0m             \u001b[1;32mexcept\u001b[0m \u001b[0mKeyError\u001b[0m\u001b[1;33m:\u001b[0m\u001b[1;33m\u001b[0m\u001b[1;33m\u001b[0m\u001b[0m\n\u001b[1;32m-> 2648\u001b[1;33m                 \u001b[1;32mreturn\u001b[0m \u001b[0mself\u001b[0m\u001b[1;33m.\u001b[0m\u001b[0m_engine\u001b[0m\u001b[1;33m.\u001b[0m\u001b[0mget_loc\u001b[0m\u001b[1;33m(\u001b[0m\u001b[0mself\u001b[0m\u001b[1;33m.\u001b[0m\u001b[0m_maybe_cast_indexer\u001b[0m\u001b[1;33m(\u001b[0m\u001b[0mkey\u001b[0m\u001b[1;33m)\u001b[0m\u001b[1;33m)\u001b[0m\u001b[1;33m\u001b[0m\u001b[1;33m\u001b[0m\u001b[0m\n\u001b[0m\u001b[0;32m   2649\u001b[0m         \u001b[0mindexer\u001b[0m \u001b[1;33m=\u001b[0m \u001b[0mself\u001b[0m\u001b[1;33m.\u001b[0m\u001b[0mget_indexer\u001b[0m\u001b[1;33m(\u001b[0m\u001b[1;33m[\u001b[0m\u001b[0mkey\u001b[0m\u001b[1;33m]\u001b[0m\u001b[1;33m,\u001b[0m \u001b[0mmethod\u001b[0m\u001b[1;33m=\u001b[0m\u001b[0mmethod\u001b[0m\u001b[1;33m,\u001b[0m \u001b[0mtolerance\u001b[0m\u001b[1;33m=\u001b[0m\u001b[0mtolerance\u001b[0m\u001b[1;33m)\u001b[0m\u001b[1;33m\u001b[0m\u001b[1;33m\u001b[0m\u001b[0m\n\u001b[0;32m   2650\u001b[0m         \u001b[1;32mif\u001b[0m \u001b[0mindexer\u001b[0m\u001b[1;33m.\u001b[0m\u001b[0mndim\u001b[0m \u001b[1;33m>\u001b[0m \u001b[1;36m1\u001b[0m \u001b[1;32mor\u001b[0m \u001b[0mindexer\u001b[0m\u001b[1;33m.\u001b[0m\u001b[0msize\u001b[0m \u001b[1;33m>\u001b[0m \u001b[1;36m1\u001b[0m\u001b[1;33m:\u001b[0m\u001b[1;33m\u001b[0m\u001b[1;33m\u001b[0m\u001b[0m\n",
      "\u001b[1;32mpandas\\_libs\\index.pyx\u001b[0m in \u001b[0;36mpandas._libs.index.IndexEngine.get_loc\u001b[1;34m()\u001b[0m\n",
      "\u001b[1;32mpandas\\_libs\\index.pyx\u001b[0m in \u001b[0;36mpandas._libs.index.IndexEngine.get_loc\u001b[1;34m()\u001b[0m\n",
      "\u001b[1;32mpandas\\_libs\\index_class_helper.pxi\u001b[0m in \u001b[0;36mpandas._libs.index.Int64Engine._check_type\u001b[1;34m()\u001b[0m\n",
      "\u001b[1;31mKeyError\u001b[0m: '19'"
     ]
    }
   ],
   "source": [
    "#use a list comprehenstion to loop through values in 'df' dataframe colum '19' and misus 0.1 (Code doesn't work)\n",
    "df1= [row for row in df['19'] - 0.1]\n",
    "\n",
    "#insert a new column '20', with the content being teh result from df1 (which was supposed to be colum 19 - 0.1)\n",
    "df.insert(20, df1)\n",
    "\n",
    "#display top ten rows of the dataframe using head() method\n",
    "df.head(10)"
   ]
  },
  {
   "cell_type": "markdown",
   "metadata": {},
   "source": [
    "### 11. Use a list comprehension to extract and print all values from the data set that are between 0.7 and 0.75."
   ]
  },
  {
   "cell_type": "code",
   "execution_count": 42,
   "metadata": {},
   "outputs": [
    {
     "name": "stdout",
     "output_type": "stream",
     "text": [
      "[0.7347510852128797, 0.7347510852128797, 0.7025657075988269, 0.7025657075988269, 0.7132714209987683, 0.7132714209987683, 0.7280006345208285, 0.7280006345208285, 0.7347510852128797, 0.7347510852128797, 0.7025657075988269, 0.7025657075988269, 0.7132714209987683, 0.7132714209987683, 0.7280006345208285, 0.7280006345208285, 0.7347510852128797, 0.7347510852128797, 0.7025657075988269, 0.7025657075988269, 0.7132714209987683, 0.7132714209987683, 0.7280006345208285, 0.7280006345208285, 0.7347510852128797, 0.7347510852128797, 0.7025657075988269, 0.7025657075988269, 0.7132714209987683, 0.7132714209987683, 0.7280006345208285, 0.7280006345208285, 0.7347510852128797, 0.7347510852128797, 0.7025657075988269, 0.7025657075988269, 0.7132714209987683, 0.7132714209987683, 0.7280006345208285, 0.7280006345208285, 0.7347510852128797, 0.7347510852128797, 0.7025657075988269, 0.7025657075988269, 0.7132714209987683, 0.7132714209987683, 0.7280006345208285, 0.7280006345208285, 0.7347510852128797, 0.7347510852128797, 0.7025657075988269, 0.7025657075988269, 0.7132714209987683, 0.7132714209987683, 0.7280006345208285, 0.7280006345208285, 0.7347510852128797, 0.7347510852128797, 0.7025657075988269, 0.7025657075988269, 0.7132714209987683, 0.7132714209987683, 0.7280006345208285, 0.7280006345208285, 0.7347510852128797, 0.7347510852128797, 0.7025657075988269, 0.7025657075988269, 0.7132714209987683, 0.7132714209987683, 0.7280006345208285, 0.7280006345208285, 0.7347510852128797, 0.7347510852128797, 0.7025657075988269, 0.7025657075988269, 0.7132714209987683, 0.7132714209987683, 0.7280006345208285, 0.7280006345208285, 0.7347510852128797, 0.7347510852128797, 0.7025657075988269, 0.7025657075988269, 0.7132714209987683, 0.7132714209987683, 0.7280006345208285, 0.7280006345208285, 0.7347510852128797, 0.7347510852128797, 0.7025657075988269, 0.7025657075988269, 0.7132714209987683, 0.7132714209987683, 0.7280006345208285, 0.7280006345208285, 0.7347510852128797, 0.7347510852128797, 0.7025657075988269, 0.7025657075988269, 0.7132714209987683, 0.7132714209987683, 0.7280006345208285, 0.7280006345208285, 0.7347510852128797, 0.7347510852128797, 0.7025657075988269, 0.7025657075988269, 0.7132714209987683, 0.7132714209987683, 0.7280006345208285, 0.7280006345208285, 0.7347510852128797, 0.7347510852128797, 0.7025657075988269, 0.7025657075988269, 0.7132714209987683, 0.7132714209987683, 0.7280006345208285, 0.7280006345208285, 0.7347510852128797, 0.7347510852128797, 0.7025657075988269, 0.7025657075988269, 0.7132714209987683, 0.7132714209987683, 0.7280006345208285, 0.7280006345208285, 0.7347510852128797, 0.7347510852128797, 0.7025657075988269, 0.7025657075988269, 0.7132714209987683, 0.7132714209987683, 0.7280006345208285, 0.7280006345208285, 0.7347510852128797, 0.7347510852128797, 0.7025657075988269, 0.7025657075988269, 0.7132714209987683, 0.7132714209987683, 0.7280006345208285, 0.7280006345208285, 0.7347510852128797, 0.7347510852128797, 0.7025657075988269, 0.7025657075988269, 0.7132714209987683, 0.7132714209987683, 0.7280006345208285, 0.7280006345208285, 0.7347510852128797, 0.7347510852128797, 0.7025657075988269, 0.7025657075988269, 0.7132714209987683, 0.7132714209987683, 0.7280006345208285, 0.7280006345208285]\n"
     ]
    }
   ],
   "source": [
    "\n",
    "between_vals = df_con['0']\n",
    "\n",
    "\n",
    "# loop through every section(i) and then through evey value (v) in those sections and if between 0.7 and 0.75 the update \n",
    "# the dataframe (between vals) with it and print to check answer\n",
    "between_vals = [v for i in df_con for v in df_con['0'] if v > 0.7 and v < 0.75]   \n",
    "print(between_vals)"
   ]
  },
  {
   "cell_type": "code",
   "execution_count": 44,
   "metadata": {},
   "outputs": [
    {
     "name": "stdout",
     "output_type": "stream",
     "text": [
      "0    0.734751\n",
      "1    0.772607\n",
      "2    0.226428\n",
      "3    0.362748\n",
      "4    0.033415\n",
      "       ...   \n",
      "0    0.215190\n",
      "1    0.895544\n",
      "2    0.413752\n",
      "3    0.728001\n",
      "4    0.134942\n",
      "Name: 0, Length: 100, dtype: float64\n"
     ]
    }
   ],
   "source": [
    "between_vals = df_con['0']\n",
    "print(between_vals)"
   ]
  },
  {
   "cell_type": "code",
   "execution_count": null,
   "metadata": {},
   "outputs": [],
   "source": []
  }
 ],
 "metadata": {
  "kernelspec": {
   "display_name": "Python 3",
   "language": "python",
   "name": "python3"
  },
  "language_info": {
   "codemirror_mode": {
    "name": "ipython",
    "version": 3
   },
   "file_extension": ".py",
   "mimetype": "text/x-python",
   "name": "python",
   "nbconvert_exporter": "python",
   "pygments_lexer": "ipython3",
   "version": "3.8.3"
  }
 },
 "nbformat": 4,
 "nbformat_minor": 2
}
